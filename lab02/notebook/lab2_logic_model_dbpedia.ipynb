{
  "nbformat": 4,
  "nbformat_minor": 5,
  "metadata": {
    "kernelspec": {
      "display_name": "Python 3",
      "language": "python",
      "name": "python3"
    },
    "language_info": {
      "codemirror_mode": {
        "name": "ipython",
        "version": 3
      },
      "file_extension": ".py",
      "mimetype": "text/x-python",
      "name": "python",
      "nbconvert_exporter": "python",
      "pygments_lexer": "ipython3",
      "version": "3.8.10"
    },
    "colab": {
      "name": "lab2-logic-model-dbpedia.ipynb",
      "provenance": []
    }
  },
  "cells": [
    {
      "cell_type": "markdown",
      "metadata": {
        "id": "monetary-oakland"
      },
      "source": [
        "# Laboratório 2"
      ],
      "id": "monetary-oakland"
    },
    {
      "cell_type": "markdown",
      "metadata": {
        "id": "bridal-netscape"
      },
      "source": [
        "## Tarefa 1\n",
        "\n",
        "### Carregue o nó de Tenda dos Milagres (da versão em inglês Tent of Miracles) em Python e mostre o conteúdo JSON."
      ],
      "id": "bridal-netscape"
    },
    {
      "cell_type": "code",
      "metadata": {
        "id": "exciting-cement"
      },
      "source": [
        "import io\n",
        "import requests\n",
        "import json\n",
        "\n",
        "url_template = \"http://dbpedia.org/data/{concept}.{format}\"\n",
        "\n",
        "concept = \"Tent of Miracles (novel)\"\n",
        "format = \"jsod\"\n",
        "\n",
        "concept = concept.replace(\" \", \"_\")\n",
        "\n",
        "url = url_template.replace(\"{concept}\", concept)\\\n",
        "                  .replace(\"{format}\", format)\n",
        "\n",
        "data = requests.get(url)\n",
        "js = data.json()\n",
        "print(json.dumps(js, indent=3))"
      ],
      "id": "exciting-cement",
      "execution_count": null,
      "outputs": []
    },
    {
      "cell_type": "markdown",
      "metadata": {
        "id": "threatened-shepherd"
      },
      "source": [
        "## Tarefa 2\n",
        "### Recupere via Python e mostre o autor de Tenda dos Milagres?"
      ],
      "id": "threatened-shepherd"
    },
    {
      "cell_type": "code",
      "metadata": {
        "id": "subjective-bachelor"
      },
      "source": [
        "author = js['d']['results'][0][\"http://dbpedia.org/ontology/author\"]['__deferred']['uri']\n",
        "print(\"Autor de Tenda dos Milagres: \", author)"
      ],
      "id": "subjective-bachelor",
      "execution_count": null,
      "outputs": []
    },
    {
      "cell_type": "markdown",
      "metadata": {
        "id": "specialized-playback"
      },
      "source": [
        "## Tarefa 3\n",
        "### Quais os termos usados para Aspirina (consulta JSON/MeSH em Python)?"
      ],
      "id": "specialized-playback"
    },
    {
      "cell_type": "code",
      "metadata": {
        "id": "about-sacramento"
      },
      "source": [
        "url_template = \"https://id.nlm.nih.gov/mesh/lookup/descriptor?label={concept}&match={match}&limit={limit}\"\n",
        "\n",
        "concept = \"Aspirin\"\n",
        "match = \"exact\"\n",
        "limit = \"10\"\n",
        "\n",
        "concept = concept.replace(\" \", \"%20\")\n",
        "\n",
        "url = url_template.replace(\"{concept}\", concept)\\\n",
        "                  .replace(\"{match}\", match)\\\n",
        "                  .replace(\"{limit}\", limit)\n",
        "\n",
        "data = requests.get(url)\n",
        "json_mi = data.json()\n",
        "print(json.dumps(json_mi, indent=3))"
      ],
      "id": "about-sacramento",
      "execution_count": null,
      "outputs": []
    },
    {
      "cell_type": "code",
      "metadata": {
        "id": "9Zmi1GV4FswM"
      },
      "source": [
        "url_template = \"https://id.nlm.nih.gov/mesh/lookup/details?descriptor={code}\"\n",
        "\n",
        "aux = json_mi[0]['resource']\n",
        "index = str.rindex(aux, '/')\n",
        "code = aux[index + 1:]\n",
        "\n",
        "url = url_template.replace(\"{code}\", code)\n",
        "\n",
        "data = requests.get(url)\n",
        "json_mid = data.json()\n",
        "json_print = json_mid['terms']\n",
        "print(json.dumps(json_print, indent=3))"
      ],
      "id": "9Zmi1GV4FswM",
      "execution_count": null,
      "outputs": []
    },
    {
      "cell_type": "markdown",
      "metadata": {
        "id": "uniform-worst"
      },
      "source": [
        "## Tarefa 4\n",
        "### Escolha algum lugar no OpenStreetMap e elabore a mesma sequência de três chamadas de serviços para o seu conceito."
      ],
      "id": "uniform-worst"
    },
    {
      "cell_type": "code",
      "metadata": {
        "id": "virgin-volunteer"
      },
      "source": [
        "url_template = \"http://nominatim.openstreetmap.org/search?format={format}&q={query}\"\n",
        "format = \"json\"\n",
        "query = \"Star Wars: Galaxy’s Edge\"\n",
        "\n",
        "url = url_template.replace(\"{format}\", format)\\\n",
        "                  .replace(\"{query}\", query)\n",
        "\n",
        "data = requests.get(url)\n",
        "json_osm = data.json()\n",
        "print(json.dumps(json_osm, indent=3))"
      ],
      "id": "virgin-volunteer",
      "execution_count": null,
      "outputs": []
    },
    {
      "cell_type": "code",
      "metadata": {
        "id": "94Divmo1H5N0"
      },
      "source": [
        "osm_id = json_osm[0][\"osm_id\"]\n",
        "print(osm_id)"
      ],
      "id": "94Divmo1H5N0",
      "execution_count": null,
      "outputs": []
    },
    {
      "cell_type": "code",
      "metadata": {
        "id": "9LixXjyKIHzH"
      },
      "source": [
        "url_template = \"https://api.openstreetmap.org/api/0.6/{element_type}/{id}.{format}\"\n",
        "\n",
        "element_type = \"way\" # types: node, way, or relation\n",
        "id = str(json_osm[0][\"osm_id\"])\n",
        "format = \"json\"\n",
        "\n",
        "url = url_template.replace(\"{element_type}\", element_type)\\\n",
        "                  .replace(\"{id}\", id)\\\n",
        "                  .replace(\"{format}\", format)\n",
        "\n",
        "data = requests.get(url)\n",
        "starwars_way = data.json()\n",
        "print(json.dumps(starwars_way, indent=3))"
      ],
      "id": "9LixXjyKIHzH",
      "execution_count": null,
      "outputs": []
    },
    {
      "cell_type": "code",
      "metadata": {
        "id": "4qpHvwI4Ikp9",
        "outputId": "91a9d74b-80a1-481c-b1e5-653a8ec57c99",
        "colab": {
          "base_uri": "https://localhost:8080/"
        }
      },
      "source": [
        "wikipedia = starwars_way['elements'][0]['tags']['wikipedia']\n",
        "print(wikipedia)"
      ],
      "id": "4qpHvwI4Ikp9",
      "execution_count": 35,
      "outputs": [
        {
          "output_type": "stream",
          "text": [
            "en:Star Wars: Galaxy's Edge\n"
          ],
          "name": "stdout"
        }
      ]
    },
    {
      "cell_type": "code",
      "metadata": {
        "id": "EWlX56gfJHJU"
      },
      "source": [
        "url_template = \"http://dbpedia.org/data/{concept}.{format}\"\n",
        "concept = starwars_way['elements'][0]['tags']['wikipedia'].replace(\" \", \"_\")\\\n",
        "                                                        .replace(\"en:\", \"\")\n",
        "format = \"jsod\"\n",
        "\n",
        "url = url_template.replace(\"{concept}\", concept)\\\n",
        "                  .replace(\"{format}\", format)\n",
        "\n",
        "data = requests.get(url)\n",
        "starwars_dbpedia = data.json()\n",
        "print(json.dumps(starwars_dbpedia, indent=3))"
      ],
      "id": "EWlX56gfJHJU",
      "execution_count": null,
      "outputs": []
    }
  ]
}